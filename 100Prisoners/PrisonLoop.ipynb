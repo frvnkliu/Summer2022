{
 "cells": [
  {
   "cell_type": "markdown",
   "id": "61f4eeaf",
   "metadata": {},
   "source": [
    "# 100 Prisoners Problem Simulator\n",
    "Rules:\n",
    "100 numbered prisoners must find their own numbers in one of 100 drawers in order to survive. The rules state that each prisoner may open only 50 drawers and cannot communicate with other prisoners."
   ]
  },
  {
   "cell_type": "code",
   "execution_count": 73,
   "id": "6f8dd3f6",
   "metadata": {},
   "outputs": [],
   "source": [
    "import numpy as np\n",
    "import random"
   ]
  },
  {
   "cell_type": "code",
   "execution_count": 74,
   "id": "fa3d163c",
   "metadata": {},
   "outputs": [],
   "source": [
    "#Random Opening\n",
    "def randOpen(boxes):\n",
    "    for i in range (100):\n",
    "        arr = np.arange(100)\n",
    "        random.shuffle(arr)\n",
    "        j = 0;\n",
    "        #Take first 50\n",
    "        while j < 50:\n",
    "            if(boxes[arr[j]] == i):\n",
    "                break\n",
    "            j += 1\n",
    "        if(j == 50):\n",
    "            return False, i\n",
    "    return True, -1  "
   ]
  },
  {
   "cell_type": "code",
   "execution_count": 75,
   "id": "80d4a4d8",
   "metadata": {},
   "outputs": [],
   "source": [
    "#Loop Method\n",
    "def loopOpen(boxes):\n",
    "    for i in range(100):\n",
    "        c = i;\n",
    "        j = 0;\n",
    "        while j < 50:\n",
    "            c = boxes[c]\n",
    "            if(c==i):\n",
    "                break\n",
    "            j += 1\n",
    "        if(j == 50):\n",
    "            return False, i\n",
    "    return True, -1  "
   ]
  },
  {
   "cell_type": "code",
   "execution_count": 82,
   "id": "94fc3e89",
   "metadata": {},
   "outputs": [],
   "source": [
    "#Print Boxes\n",
    "def printBoxes(boxes):\n",
    "    print(\"Boxes:\")\n",
    "    for i in range(10):\n",
    "        for j in range(0,9):\n",
    "            print(\"%3d\" % (boxes[i*10+j]+1), end = \" \")\n",
    "        print(\"%3d\" % (boxes[i*10+9]+1))\n",
    "    print()"
   ]
  },
  {
   "cell_type": "code",
   "execution_count": 83,
   "id": "2d57d21c",
   "metadata": {},
   "outputs": [],
   "source": [
    "#Find and Print Loops\n",
    "def findLoops(boxes):\n",
    "    loops = []\n",
    "    visArr = np.zeros(100, np.int8)\n",
    "    i = 0\n",
    "    while i < 100:\n",
    "        currLoop = []\n",
    "        c = i\n",
    "        while True:\n",
    "            visArr[c] = 1\n",
    "            currLoop.append(c)\n",
    "            c = boxes[c]\n",
    "            if c == i:\n",
    "                break;\n",
    "        loops.append(currLoop)\n",
    "        while i<100 and visArr[i]:\n",
    "            i += 1\n",
    "\n",
    "    return loops"
   ]
  },
  {
   "cell_type": "code",
   "execution_count": 84,
   "id": "4b5e4217",
   "metadata": {
    "scrolled": false
   },
   "outputs": [
    {
     "name": "stdout",
     "output_type": "stream",
     "text": [
      "Boxes:\n",
      " 59   9  57  86  33  88  67  80  70  24\n",
      " 11  91  82  31   7   1  72  76  47  65\n",
      " 68  38  49  23  48   4  73  52  95  42\n",
      " 78  50  94  30  29  60  71  37  26  61\n",
      " 16  35  92  13  40  14  64  21  75  56\n",
      " 15  81  66  77  27  87   6  46  41  85\n",
      "100  69  39  51  58   5   2  22  93  25\n",
      " 32  18  34  99  20  98  84  12   3  28\n",
      " 96  97  53  45  83  89  74  17  54  79\n",
      " 90   8  19  44  10  43  36  63  62  55\n",
      "\n",
      "Random Opening:\n",
      "Prisoner 0 failed to find their number\n",
      "\n",
      "Loop Method:\n",
      "All Prisoners Found their Numbers\n",
      "\n",
      "Loop 1:\n",
      "Size:4\n",
      "1 59 41 16 \n",
      "\n",
      "Loop 2:\n",
      "Size:27\n",
      "2 9 70 25 48 21 68 22 38 37 71 32 50 56 87 74 99 62 69 93 19 47 64 51 15 7 67 \n",
      "\n",
      "Loop 3:\n",
      "Size:47\n",
      "3 57 6 88 17 72 18 76 98 63 39 26 4 86 89 54 77 84 45 40 61 100 55 27 73 34 30 42 35 29 95 10 24 23 49 75 20 65 58 46 14 31 78 12 91 90 79 \n",
      "\n",
      "Loop 4:\n",
      "Size:13\n",
      "5 33 94 44 13 82 97 36 60 85 83 53 66 \n",
      "\n",
      "Loop 5:\n",
      "Size:8\n",
      "8 80 28 52 81 96 43 92 \n",
      "\n",
      "Loop 6:\n",
      "Size:1\n",
      "11 \n",
      "\n"
     ]
    }
   ],
   "source": [
    "#Main\n",
    "\n",
    "#Generate Boxes, index = box position, value = number inside box\n",
    "boxes = np.arange(100)\n",
    "#printBoxes(boxes)\n",
    "random.shuffle(boxes)\n",
    "printBoxes(boxes)\n",
    "\n",
    "print(\"Random Opening:\")\n",
    "result, prisoner = randOpen(boxes)\n",
    "if(result):\n",
    "    print('All Prisoners Found their Numbers')\n",
    "else:\n",
    "    print(f\"Prisoner {prisoner} failed to find their number\")\n",
    "print()\n",
    "\n",
    "print(\"Loop Method:\")\n",
    "result, prisoner = loopOpen(boxes)\n",
    "if(result):\n",
    "    print('All Prisoners Found their Numbers')\n",
    "else:\n",
    "    print(f\"Prisoner {prisoner} failed to find their number\")\n",
    "print()    \n",
    "    \n",
    "loops = findLoops(boxes)\n",
    "k = 0\n",
    "for i in loops:\n",
    "    k += 1\n",
    "    print(f\"Loop {k}:\\nSize:{len(i)}\")\n",
    "    for j in i:\n",
    "         print(j+1, end = \" \")\n",
    "    print(\"\\n\")"
   ]
  },
  {
   "cell_type": "code",
   "execution_count": 85,
   "id": "eeb057a1",
   "metadata": {},
   "outputs": [
    {
     "name": "stdout",
     "output_type": "stream",
     "text": [
      "Number of Simulations: 100000\n",
      "randOpen: # of Successes: 0 | Probability: 0.0\n",
      "loopOpen: # of Successes: 31265 | Probability: 0.31265\n"
     ]
    }
   ],
   "source": [
    "#Mass simulation to find probability of success with each method over n iterations\n",
    "n = 100000\n",
    "succ1 = 0\n",
    "succ2 = 0\n",
    "boxes = np.arange(100)\n",
    "\n",
    "for i in range(n):\n",
    "    random.shuffle(boxes)\n",
    "    \n",
    "    result, prisoner = randOpen(boxes)\n",
    "    if(result):\n",
    "        succ1 += 1\n",
    "        \n",
    "    result, prisoner = loopOpen(boxes)\n",
    "    if(result):\n",
    "        succ2 += 1\n",
    "print(f\"Number of Simulations: {n}\")\n",
    "print(f\"randOpen: # of Successes: {succ1} | Probability: {succ1/n}\")\n",
    "print(f\"loopOpen: # of Successes: {succ2} | Probability: {succ2/n}\")"
   ]
  }
 ],
 "metadata": {
  "kernelspec": {
   "display_name": "Python 3",
   "language": "python",
   "name": "python3"
  },
  "language_info": {
   "codemirror_mode": {
    "name": "ipython",
    "version": 3
   },
   "file_extension": ".py",
   "mimetype": "text/x-python",
   "name": "python",
   "nbconvert_exporter": "python",
   "pygments_lexer": "ipython3",
   "version": "3.8.8"
  }
 },
 "nbformat": 4,
 "nbformat_minor": 5
}
