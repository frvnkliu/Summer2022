{
  "cells": [
    {
      "cell_type": "markdown",
      "metadata": {
        "id": "61f4eeaf"
      },
      "source": [
        "# 100 Prisoners Problem Simulator\n",
        "Rules:\n",
        "100 numbered prisoners must find their own numbers in one of 100 drawers in order to survive. The rules state that each prisoner may open only 50 drawers and cannot communicate with other prisoners."
      ],
      "id": "61f4eeaf"
    },
    {
      "cell_type": "markdown",
      "metadata": {
        "id": "2zLYBFzS2Iqr"
      },
      "source": [
        "## Import Statements"
      ],
      "id": "2zLYBFzS2Iqr"
    },
    {
      "cell_type": "code",
      "execution_count": 2,
      "metadata": {
        "id": "6f8dd3f6"
      },
      "outputs": [],
      "source": [
        "import numpy as np\n",
        "import random"
      ],
      "id": "6f8dd3f6"
    },
    {
      "cell_type": "markdown",
      "metadata": {
        "id": "lhpDgssx1cw5"
      },
      "source": [
        "## Logic Functions"
      ],
      "id": "lhpDgssx1cw5"
    },
    {
      "cell_type": "code",
      "execution_count": 3,
      "metadata": {
        "id": "fa3d163c"
      },
      "outputs": [],
      "source": [
        "#Random Opening\n",
        "def randOpen(boxes):\n",
        "    for i in range (100):\n",
        "        arr = np.arange(100)\n",
        "        random.shuffle(arr)\n",
        "        j = 0;\n",
        "        #Take first 50\n",
        "        while j < 50:\n",
        "            if(boxes[arr[j]] == i):\n",
        "                break\n",
        "            j += 1\n",
        "        if(j == 50):\n",
        "            return False, i\n",
        "    return True, -1  "
      ],
      "id": "fa3d163c"
    },
    {
      "cell_type": "code",
      "execution_count": 4,
      "metadata": {
        "id": "80d4a4d8"
      },
      "outputs": [],
      "source": [
        "#Loop Method\n",
        "def loopOpen(boxes):\n",
        "    for i in range(100):\n",
        "        c = i;\n",
        "        j = 0;\n",
        "        while j < 50:\n",
        "            c = boxes[c]\n",
        "            if(c==i):\n",
        "                break\n",
        "            j += 1\n",
        "        if(j == 50):\n",
        "            return False, i\n",
        "    return True, -1  "
      ],
      "id": "80d4a4d8"
    },
    {
      "cell_type": "code",
      "execution_count": 10,
      "metadata": {
        "id": "2d57d21c"
      },
      "outputs": [],
      "source": [
        "#Find Loops within the boxes\n",
        "def findLoops(boxes):\n",
        "    loops = []\n",
        "    visArr = np.zeros(100, np.int8)\n",
        "    i = 0\n",
        "    while i < 100:\n",
        "        if not visArr[i]:\n",
        "          currLoop = []\n",
        "          c = i\n",
        "          while True:\n",
        "              visArr[c] = 1\n",
        "              currLoop.append(c)\n",
        "              c = boxes[c]\n",
        "              if c == i:\n",
        "                  break;\n",
        "          loops.append(currLoop)\n",
        "        i += 1\n",
        "\n",
        "    return loops"
      ],
      "id": "2d57d21c"
    },
    {
      "cell_type": "markdown",
      "metadata": {
        "id": "0jooekR51lSF"
      },
      "source": [
        "## Display Functions"
      ],
      "id": "0jooekR51lSF"
    },
    {
      "cell_type": "code",
      "execution_count": 6,
      "metadata": {
        "id": "94fc3e89"
      },
      "outputs": [],
      "source": [
        "#Print Boxes\n",
        "def printBoxes(boxes):\n",
        "    print(\"Boxes:\")\n",
        "    for i in range(10):\n",
        "        for j in range(0,9):\n",
        "            print(\"%3d\" % (boxes[i*10+j]+1), end = \" \")\n",
        "        print(\"%3d\" % (boxes[i*10+9]+1))\n",
        "    print()"
      ],
      "id": "94fc3e89"
    },
    {
      "cell_type": "markdown",
      "metadata": {
        "id": "r_5Ps4u31sy1"
      },
      "source": [
        "## Single Simulation"
      ],
      "id": "r_5Ps4u31sy1"
    },
    {
      "cell_type": "code",
      "execution_count": 23,
      "metadata": {
        "id": "4b5e4217",
        "outputId": "e8647769-6f2e-46d6-9050-30496d979ebc",
        "scrolled": false,
        "colab": {
          "base_uri": "https://localhost:8080/"
        },
        "cellView": "form"
      },
      "outputs": [
        {
          "output_type": "stream",
          "name": "stdout",
          "text": [
            "Boxes:\n",
            " 83  12  52  27  64  20   8  24  88  32\n",
            " 70   3  57  30  96  34   4  65  19  77\n",
            " 75  95  60  99   2  37  72  51  38  87\n",
            " 58  11  36  61  76  78  67  17  86  89\n",
            " 62  54  21  68   5  80  53   9  59  16\n",
            " 82 100  91  26  81  85  13  79  93   7\n",
            " 98  66  49  22   6  23  39  35  31  18\n",
            "  1  28  71  47  10  45  41  74  50  29\n",
            " 55  14  56  94  97  63  33  15  44  92\n",
            " 73  42  46  40  48  25  90  43  69  84\n",
            "\n",
            "Random Opening:\n",
            "Prisoner 3 failed to find their number\n",
            "\n",
            "Loop Method:\n",
            "All Prisoners Found their Numbers\n",
            "\n",
            "Loop 1:\n",
            "Size:41\n",
            "1 83 56 85 97 90 92 42 54 26 37 67 39 86 63 49 59 93 46 80 29 38 17 4 27 72 28 51 82 14 30 87 33 36 78 74 47 53 91 73 71 \n",
            "\n",
            "Loop 2:\n",
            "Size:24\n",
            "2 12 3 52 100 84 94 40 89 44 68 35 76 45 5 64 22 95 48 9 88 15 96 25 \n",
            "\n",
            "Loop 3:\n",
            "Size:30\n",
            "6 20 77 41 62 66 23 60 7 8 24 99 69 31 58 79 50 16 34 61 98 43 21 75 10 32 11 70 18 65 \n",
            "\n",
            "Loop 4:\n",
            "Size:2\n",
            "13 57 \n",
            "\n",
            "Loop 5:\n",
            "Size:1\n",
            "19 \n",
            "\n",
            "Loop 6:\n",
            "Size:2\n",
            "55 81 \n",
            "\n"
          ]
        }
      ],
      "source": [
        "#Main\n",
        "#@title 100 Prisoners\n",
        "showLoops = True #@param [\"True\", \"False\"] {type:\"raw\"}\n",
        "#Generate Boxes, index = box position, value = number inside box\n",
        "boxes = np.arange(100)\n",
        "#printBoxes(boxes)\n",
        "random.shuffle(boxes)\n",
        "printBoxes(boxes)\n",
        "\n",
        "print(\"Random Opening:\")\n",
        "result, prisoner = randOpen(boxes)\n",
        "if(result):\n",
        "    print('All Prisoners Found their Numbers')\n",
        "else:\n",
        "    print(f\"Prisoner {prisoner} failed to find their number\")\n",
        "print()\n",
        "\n",
        "print(\"Loop Method:\")\n",
        "result, prisoner = loopOpen(boxes)\n",
        "if(result):\n",
        "    print('All Prisoners Found their Numbers')\n",
        "else:\n",
        "    print(f\"Prisoner {prisoner} failed to find their number\")\n",
        "print()    \n",
        "\n",
        "if showLoops:\n",
        "  loops = findLoops(boxes)\n",
        "  k = 0\n",
        "  for i in loops:\n",
        "      k += 1\n",
        "      print(f\"Loop {k}:\\nSize:{len(i)}\")\n",
        "      for j in i:\n",
        "          print(j+1, end = \" \")\n",
        "      print(\"\\n\")"
      ],
      "id": "4b5e4217"
    },
    {
      "cell_type": "markdown",
      "metadata": {
        "id": "8ObA33Hx1xp3"
      },
      "source": [
        "## Mass Simulation"
      ],
      "id": "8ObA33Hx1xp3"
    },
    {
      "cell_type": "code",
      "execution_count": null,
      "metadata": {
        "colab": {
          "background_save": true
        },
        "id": "eeb057a1",
        "cellView": "form",
        "outputId": "eb2e1c40-3dde-41e9-9262-94b9cbfca875"
      },
      "outputs": [
        {
          "name": "stdout",
          "output_type": "stream",
          "text": [
            "Number of Simulations: 1000000\n",
            "randOpen: # of Successes: 0 | Probability: 0.0\n",
            "loopOpen: # of Successes: 311472 | Probability: 0.311472\n"
          ]
        }
      ],
      "source": [
        "#Mass simulation to find probability of success with each method over n iterations\n",
        "n =  1000000# @param\n",
        "succ1 = 0\n",
        "succ2 = 0\n",
        "boxes = np.arange(100)\n",
        "\n",
        "for i in range(n):\n",
        "    random.shuffle(boxes)\n",
        "    \n",
        "    result, prisoner = randOpen(boxes)\n",
        "    if(result):\n",
        "        succ1 += 1\n",
        "        \n",
        "    result, prisoner = loopOpen(boxes)\n",
        "    if(result):\n",
        "        succ2 += 1\n",
        "print(f\"Number of Simulations: {n}\")\n",
        "print(f\"randOpen: # of Successes: {succ1} | Probability: {succ1/n}\")\n",
        "print(f\"loopOpen: # of Successes: {succ2} | Probability: {succ2/n}\")"
      ],
      "id": "eeb057a1"
    }
  ],
  "metadata": {
    "colab": {
      "name": "PrisonLoop.ipynb",
      "provenance": []
    },
    "kernelspec": {
      "display_name": "Python 3",
      "language": "python",
      "name": "python3"
    },
    "language_info": {
      "codemirror_mode": {
        "name": "ipython",
        "version": 3
      },
      "file_extension": ".py",
      "mimetype": "text/x-python",
      "name": "python",
      "nbconvert_exporter": "python",
      "pygments_lexer": "ipython3",
      "version": "3.8.8"
    }
  },
  "nbformat": 4,
  "nbformat_minor": 5
}
