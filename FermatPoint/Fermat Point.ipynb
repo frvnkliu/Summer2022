{
 "cells": [
  {
   "cell_type": "code",
   "execution_count": 1,
   "id": "ac7fc9a0",
   "metadata": {},
   "outputs": [
    {
     "data": {
      "text/plain": [
       "{'divide': 'warn', 'over': 'warn', 'under': 'ignore', 'invalid': 'warn'}"
      ]
     },
     "execution_count": 1,
     "metadata": {},
     "output_type": "execute_result"
    }
   ],
   "source": [
    "#Frank Liu 2022\n",
    "import numpy as np\n",
    "import matplotlib.pyplot as plt\n",
    "import math\n",
    "np.seterr(divide='ignore')"
   ]
  },
  {
   "cell_type": "code",
   "execution_count": 2,
   "id": "c7aee8c7",
   "metadata": {},
   "outputs": [],
   "source": [
    "# findSimLine(pointa, pointb, l, adj)\n",
    "# Finds the simson line\n",
    "# pointa, pointb - The two points of a side\n",
    "# l - squared length of the side \n",
    "# opp - the vertex opposite to the side\n",
    "def findSimLine(pointa, pointb, l, opp):\n",
    "    #find parameterization of perpindicular line\n",
    "    slope = np.flip(pointb-pointa)*math.sqrt(3)/2\n",
    "    slope[0] = -slope[0]\n",
    "    \n",
    "    #Calculate midpoint and subtract the slope\n",
    "    midpoint = (pointa+pointb)/2\n",
    "    point1 = midpoint + slope\n",
    "    point2 = midpoint - slope\n",
    "    #check which point is further\n",
    "    point1 -= opp\n",
    "    point2 -= opp\n",
    "    if np.dot(point1,point1)>np.dot(point2,point2):\n",
    "        return point1\n",
    "    else:\n",
    "        return point2"
   ]
  },
  {
   "cell_type": "code",
   "execution_count": 3,
   "id": "7db15b6c",
   "metadata": {},
   "outputs": [],
   "source": [
    "#takes 3 numpy 1x2 arrays representing the x,y coordinates of each point\n",
    "def findFPoint(point1, point2, point3):\n",
    "    a = np.subtract(point1, point2)\n",
    "    b = np.subtract(point2, point3)\n",
    "    c = np.subtract(point3, point1)\n",
    "    #Length of sides squared\n",
    "    a = np.dot(a,a)\n",
    "    b = np.dot(b,b)\n",
    "    c = np.dot(c,c)\n",
    "    \n",
    "    #Edge Case, Deformed triangle: all three points are colinear or coincide (same point)\n",
    "    if a == 0:\n",
    "        #point 1 and point 2 are the same\n",
    "        return point1\n",
    "    elif b==0:\n",
    "        #point 2 and point 3 are the same\n",
    "        return point2\n",
    "    elif c==0:\n",
    "        #point 3 and point 1 are the same\n",
    "        return point3\n",
    "\n",
    "    #Angles using law of cosines (a^2=b^2+c^2-2bc(cosA))\n",
    "    A = np.arccos((b+c-a)/(2*math.sqrt(b*c)))\n",
    "    B = np.arccos((a+c-b)/(2*math.sqrt(a*c)))\n",
    "    C = np.arccos((a+b-c)/(2*math.sqrt(a*b)))\n",
    "    \n",
    "    MaxAngle = (2/3)*math.pi\n",
    "    #print(f'MaxAngle: {MaxAngle}')\n",
    "    if A>=MaxAngle:\n",
    "        return point3\n",
    "    if B>=MaxAngle:\n",
    "        return point1\n",
    "    if C>=MaxAngle:\n",
    "        return point2\n",
    "    \n",
    "    #Line 1\n",
    "    #Calculate third vertex point of equilateral (point 2 and 3)\n",
    "    line1 = findSimLine(point2, point3, b, point1)\n",
    "    \n",
    "    #Line 2\n",
    "    #Calculate third vertex point of equilateral (point 2 and 1)\n",
    "    line2 = findSimLine(point2, point1, a, point3)\n",
    "\n",
    "    #Systems of Equation Matrix for t_1, t_2\n",
    "    #Solve for t_2 using REF\n",
    "    mat = np.matrix([line1,-line2,point3-point1]).T\n",
    "    mat[0]/= line1[0]\n",
    "    mat[1] -= line1[1]*mat[0]\n",
    "    t_2 = mat[1,2]/mat[1,1]\n",
    "    \n",
    "    return t_2*line2+point3"
   ]
  },
  {
   "cell_type": "code",
   "execution_count": 5,
   "id": "8f3991d8",
   "metadata": {
    "scrolled": true
   },
   "outputs": [
    {
     "name": "stdout",
     "output_type": "stream",
     "text": [
      "Fermat Point: [0.57735027 0.57735027]\n"
     ]
    },
    {
     "data": {
      "text/plain": [
       "<function matplotlib.pyplot.show(close=None, block=None)>"
      ]
     },
     "execution_count": 5,
     "metadata": {},
     "output_type": "execute_result"
    },
    {
     "data": {
      "image/png": "[encoded data removed]",
      "text/plain": [
       "<Figure size 432x288 with 1 Axes>"
      ]
     },
     "metadata": {
      "needs_background": "light"
     },
     "output_type": "display_data"
    }
   ],
   "source": [
    "#Change coordinates here:\n",
    "point1 = np.array([1,-1])\n",
    "point2 = np.array([-1,1])\n",
    "point3 = np.array([2,2])\n",
    "\n",
    "#Calls our helper function\n",
    "FPoint = findFPoint(point1,point2,point3)\n",
    "vertices = np.array([point1,point2,point3])\n",
    "print(f'Fermat Point: {FPoint}')\n",
    "\n",
    "#Plotting:\n",
    "plt.figure()\n",
    "ax = plt.gca()\n",
    "ax.axhline(y=0, color='k')\n",
    "ax.axvline(x=0, color='k')\n",
    "ax.spines['top'].set_color('none')\n",
    "ax.spines['right'].set_color('none')\n",
    "ax.spines['bottom'].set_position('zero')\n",
    "x= ax.spines['left'].set_position('zero')\n",
    "\n",
    "triangle = plt.Polygon(vertices, color= '#15b3f7')\n",
    "ax.add_patch(triangle)\n",
    "plt.scatter(vertices[:, 0],vertices [:, 1], s= 30, color = '#0b79fa')\n",
    "plt.plot(FPoint[0],FPoint[1],'o', color='#0a2179')\n",
    "plt.axis('scaled')\n",
    "plt.show"
   ]
  }
 ],
 "metadata": {
  "kernelspec": {
   "display_name": "Python 3",
   "language": "python",
   "name": "python3"
  },
  "language_info": {
   "codemirror_mode": {
    "name": "ipython",
    "version": 3
   },
   "file_extension": ".py",
   "mimetype": "text/x-python",
   "name": "python",
   "nbconvert_exporter": "python",
   "pygments_lexer": "ipython3",
   "version": "3.8.8"
  }
 },
 "nbformat": 4,
 "nbformat_minor": 5
}
